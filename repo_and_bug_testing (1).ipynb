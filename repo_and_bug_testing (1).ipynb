{
  "nbformat": 4,
  "nbformat_minor": 0,
  "metadata": {
    "colab": {
      "provenance": []
    },
    "kernelspec": {
      "name": "python3",
      "display_name": "Python 3"
    },
    "language_info": {
      "name": "python"
    }
  },
  "cells": [
    {
      "cell_type": "code",
      "execution_count": 6,
      "metadata": {
        "colab": {
          "base_uri": "https://localhost:8080/"
        },
        "id": "Xe3WX_lTCw-g",
        "outputId": "44001b27-ba80-46b8-e474-a832a713e7b8"
      },
      "outputs": [
        {
          "output_type": "stream",
          "name": "stdout",
          "text": [
            "Cloning into 'knowlbase'...\n",
            "remote: Enumerating objects: 767, done.\u001b[K\n",
            "remote: Counting objects: 100% (315/315), done.\u001b[K\n",
            "remote: Compressing objects: 100% (198/198), done.\u001b[K\n",
            "remote: Total 767 (delta 171), reused 190 (delta 92), pack-reused 452 (from 1)\u001b[K\n",
            "Receiving objects: 100% (767/767), 233.14 KiB | 1.65 MiB/s, done.\n",
            "Resolving deltas: 100% (429/429), done.\n"
          ]
        }
      ],
      "source": [
        "!git clone https://github.com/twelvewizards/knowlbase.git\n"
      ]
    },
    {
      "cell_type": "code",
      "source": [
        "%cd knowlbase"
      ],
      "metadata": {
        "colab": {
          "base_uri": "https://localhost:8080/"
        },
        "id": "5-z6LKbSCxqm",
        "outputId": "97e18c79-378a-4df7-871c-1ebfaf01e15a"
      },
      "execution_count": 7,
      "outputs": [
        {
          "output_type": "stream",
          "name": "stdout",
          "text": [
            "/content/knowlbase/knowlbase\n"
          ]
        }
      ]
    },
    {
      "cell_type": "code",
      "source": [
        "!git remote set-url origin https://github.com/your-username/new-repository-name.git"
      ],
      "metadata": {
        "id": "r0RUb_qVCxt7"
      },
      "execution_count": 8,
      "outputs": []
    },
    {
      "cell_type": "code",
      "source": [
        "!git checkout --orphan latest_branch\n",
        "!git add -A\n",
        "!git commit -am \"Initial commit\"\n",
        "!git push -u origin latest_branch --force\n"
      ],
      "metadata": {
        "colab": {
          "base_uri": "https://localhost:8080/"
        },
        "id": "nU8KbsLZCx0Q",
        "outputId": "df72b735-512b-4cc3-9c5e-46ae3d48fdf0"
      },
      "execution_count": 9,
      "outputs": [
        {
          "output_type": "stream",
          "name": "stdout",
          "text": [
            "Switched to a new branch 'latest_branch'\n",
            "Author identity unknown\n",
            "\n",
            "*** Please tell me who you are.\n",
            "\n",
            "Run\n",
            "\n",
            "  git config --global user.email \"you@example.com\"\n",
            "  git config --global user.name \"Your Name\"\n",
            "\n",
            "to set your account's default identity.\n",
            "Omit --global to set the identity only in this repository.\n",
            "\n",
            "fatal: unable to auto-detect email address (got 'root@5684fddd3bc4.(none)')\n",
            "error: src refspec latest_branch does not match any\n",
            "\u001b[31merror: failed to push some refs to 'https://github.com/your-username/new-repository-name.git'\n",
            "\u001b[mSwitched to a new branch 'latest_branch'\n",
            "Author identity unknown\n",
            "\n",
            "*** Please tell me who you are.\n",
            "\n",
            "Run\n",
            "\n",
            "  git config --global user.email \"you@example.com\"\n",
            "  git config --global user.name \"Your Name\"\n",
            "\n",
            "to set your account's default identity.\n",
            "Omit --global to set the identity only in this repository.\n",
            "\n",
            "fatal: unable to auto-detect email address (got 'root@5684fddd3bc4.(none)')\n",
            "error: src refspec latest_branch does not match any\n",
            "\u001b[31merror: failed to push some refs to 'https://github.com/your-username/new-repository-name.git'\n",
            "\u001b[m"
          ]
        }
      ]
    },
    {
      "cell_type": "code",
      "source": [
        "!git config --global user.email \"20230352@myehitecliffe.com\"\n",
        "!git config --global user.name \"Satwinder\""
      ],
      "metadata": {
        "id": "26Ebv8ANCx3x"
      },
      "execution_count": 10,
      "outputs": []
    },
    {
      "cell_type": "code",
      "source": [
        "!git add .\n",
        "!git commit -m \"Initial commit\""
      ],
      "metadata": {
        "colab": {
          "base_uri": "https://localhost:8080/"
        },
        "id": "JtFKNmIrD3qN",
        "outputId": "16aff017-4621-41dd-8b85-1461c0b1449d"
      },
      "execution_count": 11,
      "outputs": [
        {
          "output_type": "stream",
          "name": "stdout",
          "text": [
            "[latest_branch (root-commit) ceb5647] Initial commit\n",
            " 40 files changed, 3990 insertions(+)\n",
            " create mode 100644 .gitignore\n",
            " create mode 100644 .vscode/settings.json\n",
            " create mode 100644 README.md\n",
            " create mode 100644 base/__init__.py\n",
            " create mode 100644 base/asgi.py\n",
            " create mode 100644 base/settings.py\n",
            " create mode 100644 base/urls.py\n",
            " create mode 100644 base/wsgi.py\n",
            " create mode 100644 db.sqlite3\n",
            " create mode 100644 knowl/__init__.py\n",
            " create mode 100644 knowl/admin.py\n",
            " create mode 100644 knowl/apps.py\n",
            " create mode 100644 knowl/migrations/0001_initial.py\n",
            " create mode 100644 knowl/migrations/__init__.py\n",
            " create mode 100644 knowl/migrations/__pycache__/0001_initial.cpython-311.pyc\n",
            " create mode 100644 knowl/migrations/__pycache__/0001_initial.cpython-312.pyc\n",
            " create mode 100644 knowl/migrations/__pycache__/__init__.cpython-311.pyc\n",
            " create mode 100644 knowl/migrations/__pycache__/__init__.cpython-312.pyc\n",
            " create mode 100644 knowl/models.py\n",
            " create mode 100644 knowl/static/css/add-article-modal.css\n",
            " create mode 100644 knowl/static/css/article-buttons.css\n",
            " create mode 100644 knowl/static/css/article-contents.css\n",
            " create mode 100644 knowl/static/css/filter.css\n",
            " create mode 100644 knowl/static/css/login-modal.css\n",
            " create mode 100644 knowl/static/css/manage-users-modal.css\n",
            " create mode 100644 knowl/static/css/navbar.css\n",
            " create mode 100644 knowl/static/css/search.css\n",
            " create mode 100644 knowl/static/css/signup-modal.css\n",
            " create mode 100644 knowl/static/css/styles.css\n",
            " create mode 100644 knowl/static/js/add-article.js\n",
            " create mode 100644 knowl/static/js/article-container.js\n",
            " create mode 100644 knowl/static/js/filter.js\n",
            " create mode 100644 knowl/static/js/modal.js\n",
            " create mode 100644 knowl/templates/knowl/base.html\n",
            " create mode 100644 knowl/tests.py\n",
            " create mode 100644 knowl/urls.py\n",
            " create mode 100644 knowl/views.py\n",
            " create mode 100644 login_creds.txt\n",
            " create mode 100644 manage.py\n",
            " create mode 100644 requirements.txt\n"
          ]
        }
      ]
    },
    {
      "cell_type": "code",
      "source": [
        "!git config --list"
      ],
      "metadata": {
        "colab": {
          "base_uri": "https://localhost:8080/"
        },
        "id": "EbEE7oyMD3tg",
        "outputId": "bc480895-f2e9-43a8-f027-e928027718c0"
      },
      "execution_count": 13,
      "outputs": [
        {
          "output_type": "stream",
          "name": "stdout",
          "text": [
            "filter.lfs.clean=git-lfs clean -- %f\n",
            "filter.lfs.smudge=git-lfs smudge -- %f\n",
            "filter.lfs.process=git-lfs filter-process\n",
            "filter.lfs.required=true\n",
            "user.email=20230352@myehitecliffe.com\n",
            "user.name=Satwinder\n",
            "core.repositoryformatversion=0\n",
            "core.filemode=true\n",
            "core.bare=false\n",
            "core.logallrefupdates=true\n",
            "remote.origin.url=https://github.com/your-username/new-repository-name.git\n",
            "remote.origin.fetch=+refs/heads/*:refs/remotes/origin/*\n",
            "branch.main.remote=origin\n",
            "branch.main.merge=refs/heads/main\n"
          ]
        }
      ]
    },
    {
      "cell_type": "code",
      "source": [
        "!git add ."
      ],
      "metadata": {
        "id": "qZoqQ9xID3wv"
      },
      "execution_count": 14,
      "outputs": []
    },
    {
      "cell_type": "code",
      "source": [
        "!git commit -m \"Initial commit\""
      ],
      "metadata": {
        "colab": {
          "base_uri": "https://localhost:8080/"
        },
        "id": "23mIyYSND3zs",
        "outputId": "768b87bc-4431-4c42-dd63-f5b37a025678"
      },
      "execution_count": 15,
      "outputs": [
        {
          "output_type": "stream",
          "name": "stdout",
          "text": [
            "On branch latest_branch\n",
            "nothing to commit, working tree clean\n"
          ]
        }
      ]
    },
    {
      "cell_type": "code",
      "source": [
        "!git config user.email \"20230352@myehitecliffe.com\"\n",
        "!git config user.name \"Satwinder\""
      ],
      "metadata": {
        "id": "pUtnJABsD32c"
      },
      "execution_count": 17,
      "outputs": []
    },
    {
      "cell_type": "code",
      "source": [
        "# Verify Git configuration\n",
        "!git config --list\n"
      ],
      "metadata": {
        "colab": {
          "base_uri": "https://localhost:8080/"
        },
        "id": "rlJHo5YIF9OX",
        "outputId": "21be0839-2201-497c-c951-f4216c8f3532"
      },
      "execution_count": 18,
      "outputs": [
        {
          "output_type": "stream",
          "name": "stdout",
          "text": [
            "filter.lfs.clean=git-lfs clean -- %f\n",
            "filter.lfs.smudge=git-lfs smudge -- %f\n",
            "filter.lfs.process=git-lfs filter-process\n",
            "filter.lfs.required=true\n",
            "user.email=20230352@myehitecliffe.com\n",
            "user.name=Satwinder\n",
            "core.repositoryformatversion=0\n",
            "core.filemode=true\n",
            "core.bare=false\n",
            "core.logallrefupdates=true\n",
            "remote.origin.url=https://github.com/your-username/new-repository-name.git\n",
            "remote.origin.fetch=+refs/heads/*:refs/remotes/origin/*\n",
            "branch.main.remote=origin\n",
            "branch.main.merge=refs/heads/main\n",
            "user.email=20230352@myehitecliffe.com\n",
            "user.name=Satwinder\n"
          ]
        }
      ]
    },
    {
      "cell_type": "code",
      "source": [
        "# Check the current status of the repository\n",
        "!git status\n"
      ],
      "metadata": {
        "colab": {
          "base_uri": "https://localhost:8080/"
        },
        "id": "Y5eOsqkGF9Rh",
        "outputId": "35f1d01c-4020-46b9-db30-3ac1e181532a"
      },
      "execution_count": 19,
      "outputs": [
        {
          "output_type": "stream",
          "name": "stdout",
          "text": [
            "On branch latest_branch\n",
            "nothing to commit, working tree clean\n"
          ]
        }
      ]
    },
    {
      "cell_type": "code",
      "source": [
        "!git add ."
      ],
      "metadata": {
        "id": "SftkwngbF9Uz"
      },
      "execution_count": 20,
      "outputs": []
    },
    {
      "cell_type": "code",
      "source": [
        "!git commit -m \"Test commit to debug Git process\""
      ],
      "metadata": {
        "colab": {
          "base_uri": "https://localhost:8080/"
        },
        "id": "4QPOlZO0F9X0",
        "outputId": "0ccace6d-726f-4fea-ab31-cb6620a3bc37"
      },
      "execution_count": 21,
      "outputs": [
        {
          "output_type": "stream",
          "name": "stdout",
          "text": [
            "On branch latest_branch\n",
            "nothing to commit, working tree clean\n"
          ]
        }
      ]
    },
    {
      "cell_type": "code",
      "source": [
        "# Check the remote URL\n",
        "!git remote -v\n"
      ],
      "metadata": {
        "colab": {
          "base_uri": "https://localhost:8080/"
        },
        "id": "QPjP9LmsGSsg",
        "outputId": "4f1c88b7-ca48-4509-bb24-7317fa76e87b"
      },
      "execution_count": 23,
      "outputs": [
        {
          "output_type": "stream",
          "name": "stdout",
          "text": [
            "origin\thttps://github.com/your-username/new-repository-name.git (fetch)\n",
            "origin\thttps://github.com/your-username/new-repository-name.git (push)\n"
          ]
        }
      ]
    },
    {
      "cell_type": "code",
      "source": [
        "!git remote set-url origin https://github.com/your-username/new-repository-name.git\n"
      ],
      "metadata": {
        "id": "2aW97a-ZGSvg"
      },
      "execution_count": 24,
      "outputs": []
    },
    {
      "cell_type": "code",
      "source": [
        "!git config user.email \"20230352@myehitecliffe.com\"\n",
        "!git config user.name \"Satwinder\"\n"
      ],
      "metadata": {
        "id": "Iu3s5LwAGkIY"
      },
      "execution_count": 26,
      "outputs": []
    },
    {
      "cell_type": "code",
      "source": [
        "!echo \"Initial file for testing\" > testfile.txt\n",
        "!git add testfile.txt\n",
        "!git commit -m \"Initial commit\""
      ],
      "metadata": {
        "colab": {
          "base_uri": "https://localhost:8080/"
        },
        "id": "NaCBQ540GkLz",
        "outputId": "edcbbebb-fb75-4671-c4aa-92e967ab53f8"
      },
      "execution_count": 27,
      "outputs": [
        {
          "output_type": "stream",
          "name": "stdout",
          "text": [
            "[latest_branch d363187] Initial commit\n",
            " 1 file changed, 1 insertion(+)\n",
            " create mode 100644 testfile.txt\n"
          ]
        }
      ]
    },
    {
      "cell_type": "code",
      "source": [
        "import matplotlib.pyplot as plt"
      ],
      "metadata": {
        "id": "Eyal9vp6HCWZ"
      },
      "execution_count": 29,
      "outputs": []
    },
    {
      "cell_type": "code",
      "source": [
        "stages = ['Git Configuration', 'Git Status', 'Git Commit', 'Git Push']\n",
        "results = [True, True, False, True]  # Example results (replace with actual outcomes)"
      ],
      "metadata": {
        "id": "uR46ytJuHCcA"
      },
      "execution_count": 30,
      "outputs": []
    },
    {
      "cell_type": "code",
      "source": [
        "status = [1 if result else 0 for result in results]"
      ],
      "metadata": {
        "id": "mwSvi2TCHCfG"
      },
      "execution_count": 31,
      "outputs": []
    },
    {
      "cell_type": "code",
      "source": [
        "plt.figure(figsize=(10, 6))\n",
        "plt.bar(stages, status, color=['green' if result else 'red' for result in results])\n",
        "plt.xlabel('Git Process Stages')\n",
        "plt.ylabel('Status (1 = Success, 0 = Failure)')\n",
        "plt.title('Bug Testing Results for Git Workflow')\n",
        "plt.ylim(-0.1, 1.1)\n",
        "for i in range(len(stages)):\n",
        "    plt.text(i, status[i] + 0.05, 'Success' if status[i] == 1 else 'Failure',\n",
        "             ha='center', va='bottom' if status[i] == 1 else 'top', fontweight='bold')\n",
        "\n",
        "# Show the plot\n",
        "plt.show()\n"
      ],
      "metadata": {
        "colab": {
          "base_uri": "https://localhost:8080/",
          "height": 564
        },
        "id": "I_IupiqYHCis",
        "outputId": "1ef354d4-90c6-4fea-e36c-89f3897a6629"
      },
      "execution_count": 35,
      "outputs": [
        {
          "output_type": "display_data",
          "data": {
            "text/plain": [
              "<Figure size 1000x600 with 1 Axes>"
            ],
            "image/png": "[encoded data removed]"
          },
          "metadata": {}
        }
      ]
    }
  ]
}